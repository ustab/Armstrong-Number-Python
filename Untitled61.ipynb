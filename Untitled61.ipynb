{
  "nbformat": 4,
  "nbformat_minor": 0,
  "metadata": {
    "colab": {
      "name": "Untitled61.ipynb",
      "provenance": [],
      "authorship_tag": "ABX9TyOZz86wgbZwPcBE2zsk15sA"
    },
    "kernelspec": {
      "name": "python3",
      "display_name": "Python 3"
    },
    "language_info": {
      "name": "python"
    }
  },
  "cells": [
    {
      "cell_type": "code",
      "execution_count": null,
      "metadata": {
        "id": "1VyrfYQStY3v"
      },
      "outputs": [],
      "source": [
        "# Armstrong Number\n",
        "# samples:\n",
        "# 371 = 3^3 + 7^3 + 1^3\n",
        "# 9474 = 9^4 + 4^4 + 7^4 + 4^4\n",
        "\n",
        "\n",
        "#state = True\n",
        "#while state:\n",
        "number = input('Enter a number ==> ')\n",
        "if not number.isnumeric():\n",
        "      sate = True\n",
        "print('Invalid number try again')\n",
        "  #else:\n",
        "    #*#state = False\n",
        "length = len(number)\n",
        "result = 0\n",
        "for i in number:\n",
        "  result += int(i)**length  \n",
        "if result == int(number):\n",
        "    #print(f\"{number} is an n-Armstrong Number\")\n",
        "else:\n",
        "print(f\"{number} is not an n-Armstrong Number\")\n"
      ]
    },
    {
      "cell_type": "code",
      "source": [
        "number=input(\"enter a number:\")\n",
        "length= len(number)\n",
        "result=0\n",
        "for i in (number): \n",
        " result+=int(i)**length  \n",
        "if result== int(number):\n",
        "  \n",
        "  print(f\"{number}is an armstrong\")\n",
        "\n",
        "else:\n",
        "  print(f\"{number} is not an armstrong\")\n",
        "\n"
      ],
      "metadata": {
        "colab": {
          "base_uri": "https://localhost:8080/"
        },
        "id": "CFLPs_6ItuWX",
        "outputId": "f63e0951-dc46-45a4-a7dd-a37cdd08e42f"
      },
      "execution_count": 58,
      "outputs": [
        {
          "output_type": "stream",
          "name": "stdout",
          "text": [
            "enter a number:372\n",
            "372 is not an armstrong\n"
          ]
        }
      ]
    }
  ]
}